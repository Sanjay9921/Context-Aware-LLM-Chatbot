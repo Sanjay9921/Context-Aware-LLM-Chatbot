{
 "cells": [
  {
   "cell_type": "code",
   "execution_count": 22,
   "id": "778f1c4c",
   "metadata": {},
   "outputs": [],
   "source": [
    "import pandas as pd\n",
    "import numpy as np"
   ]
  },
  {
   "cell_type": "code",
   "execution_count": 18,
   "id": "44455f48",
   "metadata": {},
   "outputs": [],
   "source": [
    "df = pd.read_csv(\"./test2.csv\")"
   ]
  },
  {
   "cell_type": "code",
   "execution_count": 19,
   "id": "9b2f4597",
   "metadata": {},
   "outputs": [],
   "source": [
    "df[\"test_case\"] = df[\"test_case\"] + 1 "
   ]
  },
  {
   "cell_type": "code",
   "execution_count": 25,
   "id": "e9ec27d4",
   "metadata": {},
   "outputs": [],
   "source": [
    "values = np.repeat(range(1, 6), 27)"
   ]
  },
  {
   "cell_type": "code",
   "execution_count": 26,
   "id": "a3028f96",
   "metadata": {},
   "outputs": [
    {
     "data": {
      "text/plain": [
       "array([1, 1, 1, 1, 1, 1, 1, 1, 1, 1, 1, 1, 1, 1, 1, 1, 1, 1, 1, 1, 1, 1,\n",
       "       1, 1, 1, 1, 1, 2, 2, 2, 2, 2, 2, 2, 2, 2, 2, 2, 2, 2, 2, 2, 2, 2,\n",
       "       2, 2, 2, 2, 2, 2, 2, 2, 2, 2, 3, 3, 3, 3, 3, 3, 3, 3, 3, 3, 3, 3,\n",
       "       3, 3, 3, 3, 3, 3, 3, 3, 3, 3, 3, 3, 3, 3, 3, 4, 4, 4, 4, 4, 4, 4,\n",
       "       4, 4, 4, 4, 4, 4, 4, 4, 4, 4, 4, 4, 4, 4, 4, 4, 4, 4, 4, 4, 5, 5,\n",
       "       5, 5, 5, 5, 5, 5, 5, 5, 5, 5, 5, 5, 5, 5, 5, 5, 5, 5, 5, 5, 5, 5,\n",
       "       5, 5, 5])"
      ]
     },
     "execution_count": 26,
     "metadata": {},
     "output_type": "execute_result"
    }
   ],
   "source": [
    "values"
   ]
  },
  {
   "cell_type": "code",
   "execution_count": 27,
   "id": "32adf756",
   "metadata": {},
   "outputs": [],
   "source": [
    "df[\"question_number\"] = values"
   ]
  },
  {
   "cell_type": "code",
   "execution_count": 28,
   "id": "c6788bbf",
   "metadata": {},
   "outputs": [],
   "source": [
    "df.to_csv(\"./test2.csv\", index=False)"
   ]
  },
  {
   "cell_type": "code",
   "execution_count": null,
   "id": "405c7e49",
   "metadata": {},
   "outputs": [],
   "source": []
  }
 ],
 "metadata": {
  "kernelspec": {
   "display_name": "Python 3",
   "language": "python",
   "name": "python3"
  },
  "language_info": {
   "codemirror_mode": {
    "name": "ipython",
    "version": 3
   },
   "file_extension": ".py",
   "mimetype": "text/x-python",
   "name": "python",
   "nbconvert_exporter": "python",
   "pygments_lexer": "ipython3",
   "version": "3.12.2"
  }
 },
 "nbformat": 4,
 "nbformat_minor": 5
}
